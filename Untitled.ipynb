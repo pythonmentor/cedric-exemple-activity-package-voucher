{
 "cells": [
  {
   "cell_type": "code",
   "execution_count": 7,
   "id": "ec8a769f",
   "metadata": {},
   "outputs": [],
   "source": [
    "products = Product.objects.all()"
   ]
  },
  {
   "cell_type": "code",
   "execution_count": 8,
   "id": "12f7b0bb",
   "metadata": {},
   "outputs": [],
   "source": [
    "premier, deuxieme, troisieme, quatrieme = products"
   ]
  },
  {
   "cell_type": "code",
   "execution_count": 9,
   "id": "cdcf48c7",
   "metadata": {},
   "outputs": [],
   "source": [
    "from django.contrib.auth import get_user_model\n",
    "\n",
    "User = get_user_model()"
   ]
  },
  {
   "cell_type": "code",
   "execution_count": 10,
   "id": "94009d26",
   "metadata": {},
   "outputs": [],
   "source": [
    "thierry = User.objects.first()"
   ]
  },
  {
   "cell_type": "code",
   "execution_count": 11,
   "id": "84306636",
   "metadata": {},
   "outputs": [],
   "source": [
    "order = OrderLine(product=deuxieme, user=thierry, unit_price=deuxieme.package.total_price)"
   ]
  },
  {
   "cell_type": "code",
   "execution_count": 12,
   "id": "f4da3380",
   "metadata": {},
   "outputs": [
    {
     "data": {
      "text/plain": [
       "Decimal('540.0000')"
      ]
     },
     "execution_count": 12,
     "metadata": {},
     "output_type": "execute_result"
    }
   ],
   "source": [
    "deuxieme.package.total_price"
   ]
  },
  {
   "cell_type": "code",
   "execution_count": 13,
   "id": "9cbf1876",
   "metadata": {},
   "outputs": [],
   "source": [
    "order.save()"
   ]
  },
  {
   "cell_type": "code",
   "execution_count": 15,
   "id": "60605789",
   "metadata": {},
   "outputs": [],
   "source": [
    "second_order = OrderLine(product=premier, user=thierry, unit_price=premier.activity.unit_price)"
   ]
  },
  {
   "cell_type": "code",
   "execution_count": 16,
   "id": "277cbc75",
   "metadata": {},
   "outputs": [],
   "source": [
    "second_order.save()"
   ]
  },
  {
   "cell_type": "code",
   "execution_count": null,
   "id": "29de4488",
   "metadata": {},
   "outputs": [],
   "source": []
  }
 ],
 "metadata": {
  "kernelspec": {
   "display_name": "Django Shell-Plus",
   "language": "python",
   "name": "django_extensions"
  },
  "language_info": {
   "codemirror_mode": {
    "name": "ipython",
    "version": 3
   },
   "file_extension": ".py",
   "mimetype": "text/x-python",
   "name": "python",
   "nbconvert_exporter": "python",
   "pygments_lexer": "ipython3",
   "version": "3.10.9"
  }
 },
 "nbformat": 4,
 "nbformat_minor": 5
}
