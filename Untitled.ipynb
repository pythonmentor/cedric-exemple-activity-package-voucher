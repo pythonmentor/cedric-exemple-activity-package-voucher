{
 "cells": [
  {
   "cell_type": "code",
   "execution_count": 1,
   "id": "e94f1505",
   "metadata": {},
   "outputs": [],
   "source": [
    "products = Product.objects.all()"
   ]
  },
  {
   "cell_type": "code",
   "execution_count": 2,
   "id": "c48fe551",
   "metadata": {},
   "outputs": [],
   "source": [
    "premier, deuxieme, troisieme, quatrieme = products"
   ]
  },
  {
   "cell_type": "code",
   "execution_count": 3,
   "id": "5ce575fd",
   "metadata": {},
   "outputs": [],
   "source": [
    "from django.contrib.auth import get_user_model\n",
    "\n",
    "User = get_user_model()"
   ]
  },
  {
   "cell_type": "code",
   "execution_count": 4,
   "id": "dea723a7",
   "metadata": {},
   "outputs": [],
   "source": [
    "thierry = User.objects.first()"
   ]
  },
  {
   "cell_type": "code",
   "execution_count": 5,
   "id": "a06559ce",
   "metadata": {},
   "outputs": [
    {
     "data": {
      "text/plain": [
       "<OrderLine: OrderLine object (None)>"
      ]
     },
     "execution_count": 5,
     "metadata": {},
     "output_type": "execute_result"
    }
   ],
   "source": [
    "OrderLine(product=deuxieme, user=thierry, unit_price=deuxieme.package.total_price)"
   ]
  },
  {
   "cell_type": "code",
   "execution_count": 6,
   "id": "b356a317",
   "metadata": {},
   "outputs": [
    {
     "data": {
      "text/plain": [
       "Decimal('540.0000')"
      ]
     },
     "execution_count": 6,
     "metadata": {},
     "output_type": "execute_result"
    }
   ],
   "source": [
    "deuxieme.package.total_price"
   ]
  },
  {
   "cell_type": "code",
   "execution_count": null,
   "id": "e2bc4981",
   "metadata": {},
   "outputs": [],
   "source": []
  }
 ],
 "metadata": {
  "kernelspec": {
   "display_name": "Django Shell-Plus",
   "language": "python",
   "name": "django_extensions"
  },
  "language_info": {
   "codemirror_mode": {
    "name": "ipython",
    "version": 3
   },
   "file_extension": ".py",
   "mimetype": "text/x-python",
   "name": "python",
   "nbconvert_exporter": "python",
   "pygments_lexer": "ipython3",
   "version": "3.10.9"
  }
 },
 "nbformat": 4,
 "nbformat_minor": 5
}
